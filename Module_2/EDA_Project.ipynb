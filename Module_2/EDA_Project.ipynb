{
 "cells": [
  {
   "cell_type": "markdown",
   "metadata": {},
   "source": [
    "# Exploratory Data Analysis <a id='Начало'></a>"
   ]
  },
  {
   "cell_type": "markdown",
   "metadata": {},
   "source": [
    "### Задача:"
   ]
  },
  {
   "cell_type": "markdown",
   "metadata": {},
   "source": [
    "Вас пригласили поучаствовать в одном из проектов UNICEF — международного подразделения ООН, чья миссия состоит в \n",
    "повышении уровня благополучия детей по всему миру. \n",
    "\n",
    "**Суть проекта — отследить влияние условий жизни учащихся в возрасте от 15 до 22 лет на их успеваемость по \n",
    "математике, чтобы на ранней стадии выявлять студентов, находящихся в группе риска.**\n",
    "\n",
    "Для этого нужно построить модель, которая предсказывала бы результаты госэкзамена по математике для каждого ученика школы."
   ]
  },
  {
   "cell_type": "markdown",
   "metadata": {},
   "source": [
    "### Опиcание колонок датасета:"
   ]
  },
  {
   "cell_type": "markdown",
   "metadata": {},
   "source": [
    "1.school — аббревиатура школы, в которой учится ученик\n",
    "\n",
    "2.sex — пол ученика ('F' - женский, 'M' - мужской)\n",
    "\n",
    "3.age — возраст ученика (от 15 до 22)\n",
    "\n",
    "4.address — тип адреса ученика ('U' - городской, 'R' - за городом)\n",
    "\n",
    "5.famsize — размер семьи('LE3' <= 3, 'GT3' >3)\n",
    "\n",
    "6.Pstatus — статус совместного жилья родителей ('T' - живут вместе 'A' - раздельно)\n",
    "\n",
    "7.Medu — образование матери (0 - нет, 1 - 4 класса, 2 - 5-9 классы, 3 - среднее специальное или 11 классов, 4 - высшее)\n",
    "\n",
    "8.Fedu — образование отца (0 - нет, 1 - 4 класса, 2 - 5-9 классы, 3 - среднее специальное или 11 классов, 4 - высшее)\n",
    "\n",
    "9.Mjob — работа матери ('teacher' - учитель, 'health' - сфера здравоохранения, 'services' - гос служба, 'at_home' - не \n",
    "работает, 'other' - другое)\n",
    "\n",
    "10.Fjob — работа отца ('teacher' - учитель, 'health' - сфера здравоохранения, 'services' - гос служба, 'at_home' - не \n",
    "работает, 'other' - другое)\n",
    "\n",
    "11.reason — причина выбора школы ('home' - близость к дому, 'reputation' - репутация школы, 'course' - образовательная \n",
    "программа, 'other' - другое)\n",
    "\n",
    "12.guardian — опекун ('mother' - мать, 'father' - отец, 'other' - другое)\n",
    "\n",
    "13.traveltime — время в пути до школы (1 - <15 мин., 2 - 15-30 мин., 3 - 30-60 мин., 4 - >60 мин.)\n",
    "\n",
    "14.studytime — время на учёбу помимо школы в неделю (1 - <2 часов, 2 - 2-5 часов, 3 - 5-10 часов, 4 - >10 часов)\n",
    "\n",
    "15.failures — количество внеучебных неудач (n, если 1<=n<3, иначе 0)\n",
    "\n",
    "16.schoolsup — дополнительная образовательная поддержка (yes или no)\n",
    "\n",
    "17.famsup — семейная образовательная поддержка (yes или no)\n",
    "\n",
    "18.paid — дополнительные платные занятия по математике (yes или no)\n",
    "\n",
    "19.activities — дополнительные внеучебные занятия (yes или no)\n",
    "\n",
    "20.nursery — посещал детский сад (yes или no)\n",
    "\n",
    "21.higher — хочет получить высшее образование (yes или no)\n",
    "\n",
    "22.internet — наличие интернета дома (yes или no)\n",
    "\n",
    "23.romantic — в романтических отношениях (yes или no)\n",
    "\n",
    "24.famrel — семейные отношения (от 1 - очень плохо до 5 - очень хорошо)\n",
    "\n",
    "25.freetime — свободное время после школы (от 1 - очень мало до 5 - очень мого)\n",
    "\n",
    "26.goout — проведение времени с друзьями (от 1 - очень мало до 5 - очень много)\n",
    "\n",
    "27.health — текущее состояние здоровья (от 1 - очень плохо до 5 - очень хорошо)\n",
    "\n",
    "28.absences — количество пропущенных занятий\n",
    "\n",
    "29.score — баллы по госэкзамену по математике"
   ]
  },
  {
   "cell_type": "code",
   "execution_count": 3,
   "metadata": {},
   "outputs": [],
   "source": [
    "import pandas as pd\n",
    "import numpy as np\n",
    "import matplotlib.pyplot as plt\n",
    "import seaborn as sns\n",
    "from itertools import combinations\n",
    "from scipy.stats import ttest_ind\n",
    "\n",
    "pd.set_option('display.max_rows', 50) # показывать больше строк\n",
    "pd.set_option('display.max_columns', 50) # показывать больше колонок"
   ]
  },
  {
   "cell_type": "code",
   "execution_count": 4,
   "metadata": {},
   "outputs": [],
   "source": [
    "#Загружаем данные\n",
    "data = pd.read_csv('stud_math.csv')"
   ]
  },
  {
   "cell_type": "markdown",
   "metadata": {},
   "source": [
    "## 1.Первичный осмотр данных"
   ]
  },
  {
   "cell_type": "code",
   "execution_count": 5,
   "metadata": {},
   "outputs": [
    {
     "data": {
      "text/html": [
       "<div>\n",
       "<style scoped>\n",
       "    .dataframe tbody tr th:only-of-type {\n",
       "        vertical-align: middle;\n",
       "    }\n",
       "\n",
       "    .dataframe tbody tr th {\n",
       "        vertical-align: top;\n",
       "    }\n",
       "\n",
       "    .dataframe thead th {\n",
       "        text-align: right;\n",
       "    }\n",
       "</style>\n",
       "<table border=\"1\" class=\"dataframe\">\n",
       "  <thead>\n",
       "    <tr style=\"text-align: right;\">\n",
       "      <th></th>\n",
       "      <th>school</th>\n",
       "      <th>sex</th>\n",
       "      <th>age</th>\n",
       "      <th>address</th>\n",
       "      <th>famsize</th>\n",
       "      <th>Pstatus</th>\n",
       "      <th>Medu</th>\n",
       "      <th>Fedu</th>\n",
       "      <th>Mjob</th>\n",
       "      <th>Fjob</th>\n",
       "      <th>reason</th>\n",
       "      <th>guardian</th>\n",
       "      <th>traveltime</th>\n",
       "      <th>studytime</th>\n",
       "      <th>failures</th>\n",
       "      <th>schoolsup</th>\n",
       "      <th>famsup</th>\n",
       "      <th>paid</th>\n",
       "      <th>activities</th>\n",
       "      <th>nursery</th>\n",
       "      <th>studytime, granular</th>\n",
       "      <th>higher</th>\n",
       "      <th>internet</th>\n",
       "      <th>romantic</th>\n",
       "      <th>famrel</th>\n",
       "      <th>freetime</th>\n",
       "      <th>goout</th>\n",
       "      <th>health</th>\n",
       "      <th>absences</th>\n",
       "      <th>score</th>\n",
       "    </tr>\n",
       "  </thead>\n",
       "  <tbody>\n",
       "    <tr>\n",
       "      <td>0</td>\n",
       "      <td>GP</td>\n",
       "      <td>F</td>\n",
       "      <td>18</td>\n",
       "      <td>U</td>\n",
       "      <td>NaN</td>\n",
       "      <td>A</td>\n",
       "      <td>4.0</td>\n",
       "      <td>4.0</td>\n",
       "      <td>at_home</td>\n",
       "      <td>teacher</td>\n",
       "      <td>course</td>\n",
       "      <td>mother</td>\n",
       "      <td>2.0</td>\n",
       "      <td>2.0</td>\n",
       "      <td>0.0</td>\n",
       "      <td>yes</td>\n",
       "      <td>no</td>\n",
       "      <td>no</td>\n",
       "      <td>no</td>\n",
       "      <td>yes</td>\n",
       "      <td>-6.0</td>\n",
       "      <td>yes</td>\n",
       "      <td>NaN</td>\n",
       "      <td>no</td>\n",
       "      <td>4.0</td>\n",
       "      <td>3.0</td>\n",
       "      <td>4.0</td>\n",
       "      <td>3.0</td>\n",
       "      <td>6.0</td>\n",
       "      <td>30.0</td>\n",
       "    </tr>\n",
       "    <tr>\n",
       "      <td>1</td>\n",
       "      <td>GP</td>\n",
       "      <td>F</td>\n",
       "      <td>17</td>\n",
       "      <td>U</td>\n",
       "      <td>GT3</td>\n",
       "      <td>NaN</td>\n",
       "      <td>1.0</td>\n",
       "      <td>1.0</td>\n",
       "      <td>at_home</td>\n",
       "      <td>other</td>\n",
       "      <td>course</td>\n",
       "      <td>father</td>\n",
       "      <td>1.0</td>\n",
       "      <td>2.0</td>\n",
       "      <td>0.0</td>\n",
       "      <td>no</td>\n",
       "      <td>yes</td>\n",
       "      <td>no</td>\n",
       "      <td>no</td>\n",
       "      <td>no</td>\n",
       "      <td>-6.0</td>\n",
       "      <td>yes</td>\n",
       "      <td>yes</td>\n",
       "      <td>no</td>\n",
       "      <td>5.0</td>\n",
       "      <td>3.0</td>\n",
       "      <td>3.0</td>\n",
       "      <td>3.0</td>\n",
       "      <td>4.0</td>\n",
       "      <td>30.0</td>\n",
       "    </tr>\n",
       "    <tr>\n",
       "      <td>2</td>\n",
       "      <td>GP</td>\n",
       "      <td>F</td>\n",
       "      <td>15</td>\n",
       "      <td>U</td>\n",
       "      <td>LE3</td>\n",
       "      <td>T</td>\n",
       "      <td>1.0</td>\n",
       "      <td>1.0</td>\n",
       "      <td>at_home</td>\n",
       "      <td>other</td>\n",
       "      <td>other</td>\n",
       "      <td>mother</td>\n",
       "      <td>1.0</td>\n",
       "      <td>2.0</td>\n",
       "      <td>3.0</td>\n",
       "      <td>yes</td>\n",
       "      <td>no</td>\n",
       "      <td>NaN</td>\n",
       "      <td>no</td>\n",
       "      <td>yes</td>\n",
       "      <td>-6.0</td>\n",
       "      <td>yes</td>\n",
       "      <td>yes</td>\n",
       "      <td>NaN</td>\n",
       "      <td>4.0</td>\n",
       "      <td>3.0</td>\n",
       "      <td>2.0</td>\n",
       "      <td>3.0</td>\n",
       "      <td>10.0</td>\n",
       "      <td>50.0</td>\n",
       "    </tr>\n",
       "    <tr>\n",
       "      <td>3</td>\n",
       "      <td>GP</td>\n",
       "      <td>F</td>\n",
       "      <td>15</td>\n",
       "      <td>U</td>\n",
       "      <td>GT3</td>\n",
       "      <td>T</td>\n",
       "      <td>4.0</td>\n",
       "      <td>2.0</td>\n",
       "      <td>health</td>\n",
       "      <td>NaN</td>\n",
       "      <td>home</td>\n",
       "      <td>mother</td>\n",
       "      <td>1.0</td>\n",
       "      <td>3.0</td>\n",
       "      <td>0.0</td>\n",
       "      <td>no</td>\n",
       "      <td>yes</td>\n",
       "      <td>yes</td>\n",
       "      <td>yes</td>\n",
       "      <td>yes</td>\n",
       "      <td>-9.0</td>\n",
       "      <td>yes</td>\n",
       "      <td>yes</td>\n",
       "      <td>yes</td>\n",
       "      <td>3.0</td>\n",
       "      <td>2.0</td>\n",
       "      <td>2.0</td>\n",
       "      <td>5.0</td>\n",
       "      <td>2.0</td>\n",
       "      <td>75.0</td>\n",
       "    </tr>\n",
       "    <tr>\n",
       "      <td>4</td>\n",
       "      <td>GP</td>\n",
       "      <td>F</td>\n",
       "      <td>16</td>\n",
       "      <td>U</td>\n",
       "      <td>GT3</td>\n",
       "      <td>T</td>\n",
       "      <td>3.0</td>\n",
       "      <td>3.0</td>\n",
       "      <td>other</td>\n",
       "      <td>other</td>\n",
       "      <td>home</td>\n",
       "      <td>father</td>\n",
       "      <td>1.0</td>\n",
       "      <td>2.0</td>\n",
       "      <td>0.0</td>\n",
       "      <td>no</td>\n",
       "      <td>yes</td>\n",
       "      <td>yes</td>\n",
       "      <td>no</td>\n",
       "      <td>yes</td>\n",
       "      <td>-6.0</td>\n",
       "      <td>yes</td>\n",
       "      <td>no</td>\n",
       "      <td>no</td>\n",
       "      <td>4.0</td>\n",
       "      <td>3.0</td>\n",
       "      <td>2.0</td>\n",
       "      <td>5.0</td>\n",
       "      <td>4.0</td>\n",
       "      <td>50.0</td>\n",
       "    </tr>\n",
       "  </tbody>\n",
       "</table>\n",
       "</div>"
      ],
      "text/plain": [
       "  school sex  age address famsize Pstatus  Medu  Fedu     Mjob     Fjob  \\\n",
       "0     GP   F   18       U     NaN       A   4.0   4.0  at_home  teacher   \n",
       "1     GP   F   17       U     GT3     NaN   1.0   1.0  at_home    other   \n",
       "2     GP   F   15       U     LE3       T   1.0   1.0  at_home    other   \n",
       "3     GP   F   15       U     GT3       T   4.0   2.0   health      NaN   \n",
       "4     GP   F   16       U     GT3       T   3.0   3.0    other    other   \n",
       "\n",
       "   reason guardian  traveltime  studytime  failures schoolsup famsup paid  \\\n",
       "0  course   mother         2.0        2.0       0.0       yes     no   no   \n",
       "1  course   father         1.0        2.0       0.0        no    yes   no   \n",
       "2   other   mother         1.0        2.0       3.0       yes     no  NaN   \n",
       "3    home   mother         1.0        3.0       0.0        no    yes  yes   \n",
       "4    home   father         1.0        2.0       0.0        no    yes  yes   \n",
       "\n",
       "  activities nursery  studytime, granular higher internet romantic  famrel  \\\n",
       "0         no     yes                 -6.0    yes      NaN       no     4.0   \n",
       "1         no      no                 -6.0    yes      yes       no     5.0   \n",
       "2         no     yes                 -6.0    yes      yes      NaN     4.0   \n",
       "3        yes     yes                 -9.0    yes      yes      yes     3.0   \n",
       "4         no     yes                 -6.0    yes       no       no     4.0   \n",
       "\n",
       "   freetime  goout  health  absences  score  \n",
       "0       3.0    4.0     3.0       6.0   30.0  \n",
       "1       3.0    3.0     3.0       4.0   30.0  \n",
       "2       3.0    2.0     3.0      10.0   50.0  \n",
       "3       2.0    2.0     5.0       2.0   75.0  \n",
       "4       3.0    2.0     5.0       4.0   50.0  "
      ]
     },
     "execution_count": 5,
     "metadata": {},
     "output_type": "execute_result"
    }
   ],
   "source": [
    "data.head(5)"
   ]
  },
  {
   "cell_type": "code",
   "execution_count": 6,
   "metadata": {},
   "outputs": [
    {
     "name": "stdout",
     "output_type": "stream",
     "text": [
      "<class 'pandas.core.frame.DataFrame'>\n",
      "RangeIndex: 395 entries, 0 to 394\n",
      "Data columns (total 30 columns):\n",
      "school                 395 non-null object\n",
      "sex                    395 non-null object\n",
      "age                    395 non-null int64\n",
      "address                378 non-null object\n",
      "famsize                368 non-null object\n",
      "Pstatus                350 non-null object\n",
      "Medu                   392 non-null float64\n",
      "Fedu                   371 non-null float64\n",
      "Mjob                   376 non-null object\n",
      "Fjob                   359 non-null object\n",
      "reason                 378 non-null object\n",
      "guardian               364 non-null object\n",
      "traveltime             367 non-null float64\n",
      "studytime              388 non-null float64\n",
      "failures               373 non-null float64\n",
      "schoolsup              386 non-null object\n",
      "famsup                 356 non-null object\n",
      "paid                   355 non-null object\n",
      "activities             381 non-null object\n",
      "nursery                379 non-null object\n",
      "studytime, granular    388 non-null float64\n",
      "higher                 375 non-null object\n",
      "internet               361 non-null object\n",
      "romantic               364 non-null object\n",
      "famrel                 368 non-null float64\n",
      "freetime               384 non-null float64\n",
      "goout                  387 non-null float64\n",
      "health                 380 non-null float64\n",
      "absences               383 non-null float64\n",
      "score                  389 non-null float64\n",
      "dtypes: float64(12), int64(1), object(17)\n",
      "memory usage: 92.7+ KB\n"
     ]
    }
   ],
   "source": [
    "# наименования и типы столбцов \n",
    "data.info()"
   ]
  },
  {
   "cell_type": "code",
   "execution_count": 7,
   "metadata": {},
   "outputs": [
    {
     "data": {
      "text/plain": [
       "absences               36\n",
       "score                  18\n",
       "age                     8\n",
       "famrel                  6\n",
       "Fedu                    6\n",
       "health                  5\n",
       "goout                   5\n",
       "freetime                5\n",
       "Medu                    5\n",
       "Mjob                    5\n",
       "Fjob                    5\n",
       "reason                  4\n",
       "traveltime              4\n",
       "studytime               4\n",
       "failures                4\n",
       "studytime, granular     4\n",
       "guardian                3\n",
       "schoolsup               2\n",
       "famsup                  2\n",
       "paid                    2\n",
       "activities              2\n",
       "nursery                 2\n",
       "higher                  2\n",
       "internet                2\n",
       "Pstatus                 2\n",
       "famsize                 2\n",
       "address                 2\n",
       "romantic                2\n",
       "sex                     2\n",
       "school                  2\n",
       "dtype: int64"
      ]
     },
     "execution_count": 7,
     "metadata": {},
     "output_type": "execute_result"
    }
   ],
   "source": [
    "# Проверка на уникальные данные\n",
    "data.nunique().sort_values(ascending=False)"
   ]
  },
  {
   "cell_type": "code",
   "execution_count": 8,
   "metadata": {},
   "outputs": [
    {
     "data": {
      "text/plain": [
       "11.0"
      ]
     },
     "execution_count": 8,
     "metadata": {},
     "output_type": "execute_result"
    },
    {
     "data": {
      "image/png": "[encoded data removed]",
      "text/plain": [
       "<Figure size 1152x504 with 1 Axes>"
      ]
     },
     "metadata": {
      "needs_background": "light"
     },
     "output_type": "display_data"
    }
   ],
   "source": [
    "#Проверка пропусков в столбцах и максимальный процент пропусков\n",
    "plt.figure(figsize=(16, 7))\n",
    "sns.heatmap(data.isnull(), cbar=False, yticklabels=False, cmap = 'YlGnBu')\n",
    "round((data.isnull().sum(axis = 0).max() / len(data)) * 100, 0)"
   ]
  },
  {
   "cell_type": "markdown",
   "metadata": {},
   "source": [
    "### Вывод:\n",
    "В загруженном наборе данных 395 строк и 30  столбцов. Небольшое количество пропусков. В основном в столбце Pstatus 11%.\n",
    "\n",
    "[В начало](#Начало)"
   ]
  },
  {
   "cell_type": "markdown",
   "metadata": {},
   "source": [
    "## 2.Первичный анализ данных в столбцах"
   ]
  },
  {
   "cell_type": "code",
   "execution_count": 9,
   "metadata": {},
   "outputs": [
    {
     "data": {
      "text/plain": [
       "Index(['school', 'sex', 'age', 'address', 'famsize', 'Pstatus', 'Medu', 'Fedu',\n",
       "       'Mjob', 'Fjob', 'reason', 'guardian', 'traveltime', 'studytime',\n",
       "       'failures', 'schoolsup', 'famsup', 'paid', 'activities', 'nursery',\n",
       "       'studytime, granular', 'higher', 'internet', 'romantic', 'famrel',\n",
       "       'freetime', 'goout', 'health', 'absences', 'score'],\n",
       "      dtype='object')"
      ]
     },
     "execution_count": 9,
     "metadata": {},
     "output_type": "execute_result"
    }
   ],
   "source": [
    "data.columns"
   ]
  },
  {
   "cell_type": "code",
   "execution_count": 10,
   "metadata": {},
   "outputs": [
    {
     "data": {
      "text/html": [
       "<div>\n",
       "<style scoped>\n",
       "    .dataframe tbody tr th:only-of-type {\n",
       "        vertical-align: middle;\n",
       "    }\n",
       "\n",
       "    .dataframe tbody tr th {\n",
       "        vertical-align: top;\n",
       "    }\n",
       "\n",
       "    .dataframe thead th {\n",
       "        text-align: right;\n",
       "    }\n",
       "</style>\n",
       "<table border=\"1\" class=\"dataframe\">\n",
       "  <thead>\n",
       "    <tr style=\"text-align: right;\">\n",
       "      <th></th>\n",
       "      <th>school</th>\n",
       "      <th>sex</th>\n",
       "      <th>age</th>\n",
       "      <th>address</th>\n",
       "      <th>famsize</th>\n",
       "      <th>p_status</th>\n",
       "      <th>m_edu</th>\n",
       "      <th>f_edu</th>\n",
       "      <th>m_job</th>\n",
       "      <th>f_job</th>\n",
       "      <th>reason</th>\n",
       "      <th>guardian</th>\n",
       "      <th>traveltime</th>\n",
       "      <th>studytime</th>\n",
       "      <th>failures</th>\n",
       "      <th>schoolsup</th>\n",
       "      <th>famsup</th>\n",
       "      <th>paid</th>\n",
       "      <th>activities</th>\n",
       "      <th>nursery</th>\n",
       "      <th>studytime_granular</th>\n",
       "      <th>higher</th>\n",
       "      <th>internet</th>\n",
       "      <th>romantic</th>\n",
       "      <th>famrel</th>\n",
       "      <th>freetime</th>\n",
       "      <th>goout</th>\n",
       "      <th>health</th>\n",
       "      <th>absences</th>\n",
       "      <th>score</th>\n",
       "    </tr>\n",
       "  </thead>\n",
       "  <tbody>\n",
       "    <tr>\n",
       "      <td>0</td>\n",
       "      <td>GP</td>\n",
       "      <td>F</td>\n",
       "      <td>18</td>\n",
       "      <td>U</td>\n",
       "      <td>NaN</td>\n",
       "      <td>A</td>\n",
       "      <td>4.0</td>\n",
       "      <td>4.0</td>\n",
       "      <td>at_home</td>\n",
       "      <td>teacher</td>\n",
       "      <td>course</td>\n",
       "      <td>mother</td>\n",
       "      <td>2.0</td>\n",
       "      <td>2.0</td>\n",
       "      <td>0.0</td>\n",
       "      <td>yes</td>\n",
       "      <td>no</td>\n",
       "      <td>no</td>\n",
       "      <td>no</td>\n",
       "      <td>yes</td>\n",
       "      <td>-6.0</td>\n",
       "      <td>yes</td>\n",
       "      <td>NaN</td>\n",
       "      <td>no</td>\n",
       "      <td>4.0</td>\n",
       "      <td>3.0</td>\n",
       "      <td>4.0</td>\n",
       "      <td>3.0</td>\n",
       "      <td>6.0</td>\n",
       "      <td>30.0</td>\n",
       "    </tr>\n",
       "    <tr>\n",
       "      <td>1</td>\n",
       "      <td>GP</td>\n",
       "      <td>F</td>\n",
       "      <td>17</td>\n",
       "      <td>U</td>\n",
       "      <td>GT3</td>\n",
       "      <td>NaN</td>\n",
       "      <td>1.0</td>\n",
       "      <td>1.0</td>\n",
       "      <td>at_home</td>\n",
       "      <td>other</td>\n",
       "      <td>course</td>\n",
       "      <td>father</td>\n",
       "      <td>1.0</td>\n",
       "      <td>2.0</td>\n",
       "      <td>0.0</td>\n",
       "      <td>no</td>\n",
       "      <td>yes</td>\n",
       "      <td>no</td>\n",
       "      <td>no</td>\n",
       "      <td>no</td>\n",
       "      <td>-6.0</td>\n",
       "      <td>yes</td>\n",
       "      <td>yes</td>\n",
       "      <td>no</td>\n",
       "      <td>5.0</td>\n",
       "      <td>3.0</td>\n",
       "      <td>3.0</td>\n",
       "      <td>3.0</td>\n",
       "      <td>4.0</td>\n",
       "      <td>30.0</td>\n",
       "    </tr>\n",
       "    <tr>\n",
       "      <td>2</td>\n",
       "      <td>GP</td>\n",
       "      <td>F</td>\n",
       "      <td>15</td>\n",
       "      <td>U</td>\n",
       "      <td>LE3</td>\n",
       "      <td>T</td>\n",
       "      <td>1.0</td>\n",
       "      <td>1.0</td>\n",
       "      <td>at_home</td>\n",
       "      <td>other</td>\n",
       "      <td>other</td>\n",
       "      <td>mother</td>\n",
       "      <td>1.0</td>\n",
       "      <td>2.0</td>\n",
       "      <td>3.0</td>\n",
       "      <td>yes</td>\n",
       "      <td>no</td>\n",
       "      <td>NaN</td>\n",
       "      <td>no</td>\n",
       "      <td>yes</td>\n",
       "      <td>-6.0</td>\n",
       "      <td>yes</td>\n",
       "      <td>yes</td>\n",
       "      <td>NaN</td>\n",
       "      <td>4.0</td>\n",
       "      <td>3.0</td>\n",
       "      <td>2.0</td>\n",
       "      <td>3.0</td>\n",
       "      <td>10.0</td>\n",
       "      <td>50.0</td>\n",
       "    </tr>\n",
       "    <tr>\n",
       "      <td>3</td>\n",
       "      <td>GP</td>\n",
       "      <td>F</td>\n",
       "      <td>15</td>\n",
       "      <td>U</td>\n",
       "      <td>GT3</td>\n",
       "      <td>T</td>\n",
       "      <td>4.0</td>\n",
       "      <td>2.0</td>\n",
       "      <td>health</td>\n",
       "      <td>NaN</td>\n",
       "      <td>home</td>\n",
       "      <td>mother</td>\n",
       "      <td>1.0</td>\n",
       "      <td>3.0</td>\n",
       "      <td>0.0</td>\n",
       "      <td>no</td>\n",
       "      <td>yes</td>\n",
       "      <td>yes</td>\n",
       "      <td>yes</td>\n",
       "      <td>yes</td>\n",
       "      <td>-9.0</td>\n",
       "      <td>yes</td>\n",
       "      <td>yes</td>\n",
       "      <td>yes</td>\n",
       "      <td>3.0</td>\n",
       "      <td>2.0</td>\n",
       "      <td>2.0</td>\n",
       "      <td>5.0</td>\n",
       "      <td>2.0</td>\n",
       "      <td>75.0</td>\n",
       "    </tr>\n",
       "    <tr>\n",
       "      <td>4</td>\n",
       "      <td>GP</td>\n",
       "      <td>F</td>\n",
       "      <td>16</td>\n",
       "      <td>U</td>\n",
       "      <td>GT3</td>\n",
       "      <td>T</td>\n",
       "      <td>3.0</td>\n",
       "      <td>3.0</td>\n",
       "      <td>other</td>\n",
       "      <td>other</td>\n",
       "      <td>home</td>\n",
       "      <td>father</td>\n",
       "      <td>1.0</td>\n",
       "      <td>2.0</td>\n",
       "      <td>0.0</td>\n",
       "      <td>no</td>\n",
       "      <td>yes</td>\n",
       "      <td>yes</td>\n",
       "      <td>no</td>\n",
       "      <td>yes</td>\n",
       "      <td>-6.0</td>\n",
       "      <td>yes</td>\n",
       "      <td>no</td>\n",
       "      <td>no</td>\n",
       "      <td>4.0</td>\n",
       "      <td>3.0</td>\n",
       "      <td>2.0</td>\n",
       "      <td>5.0</td>\n",
       "      <td>4.0</td>\n",
       "      <td>50.0</td>\n",
       "    </tr>\n",
       "  </tbody>\n",
       "</table>\n",
       "</div>"
      ],
      "text/plain": [
       "  school sex  age address famsize p_status  m_edu  f_edu    m_job    f_job  \\\n",
       "0     GP   F   18       U     NaN        A    4.0    4.0  at_home  teacher   \n",
       "1     GP   F   17       U     GT3      NaN    1.0    1.0  at_home    other   \n",
       "2     GP   F   15       U     LE3        T    1.0    1.0  at_home    other   \n",
       "3     GP   F   15       U     GT3        T    4.0    2.0   health      NaN   \n",
       "4     GP   F   16       U     GT3        T    3.0    3.0    other    other   \n",
       "\n",
       "   reason guardian  traveltime  studytime  failures schoolsup famsup paid  \\\n",
       "0  course   mother         2.0        2.0       0.0       yes     no   no   \n",
       "1  course   father         1.0        2.0       0.0        no    yes   no   \n",
       "2   other   mother         1.0        2.0       3.0       yes     no  NaN   \n",
       "3    home   mother         1.0        3.0       0.0        no    yes  yes   \n",
       "4    home   father         1.0        2.0       0.0        no    yes  yes   \n",
       "\n",
       "  activities nursery  studytime_granular higher internet romantic  famrel  \\\n",
       "0         no     yes                -6.0    yes      NaN       no     4.0   \n",
       "1         no      no                -6.0    yes      yes       no     5.0   \n",
       "2         no     yes                -6.0    yes      yes      NaN     4.0   \n",
       "3        yes     yes                -9.0    yes      yes      yes     3.0   \n",
       "4         no     yes                -6.0    yes       no       no     4.0   \n",
       "\n",
       "   freetime  goout  health  absences  score  \n",
       "0       3.0    4.0     3.0       6.0   30.0  \n",
       "1       3.0    3.0     3.0       4.0   30.0  \n",
       "2       3.0    2.0     3.0      10.0   50.0  \n",
       "3       2.0    2.0     5.0       2.0   75.0  \n",
       "4       3.0    2.0     5.0       4.0   50.0  "
      ]
     },
     "execution_count": 10,
     "metadata": {},
     "output_type": "execute_result"
    }
   ],
   "source": [
    "# приведем названия столбцов в более удобный вариант \n",
    "data.rename(columns={'Pstatus': 'p_status', 'Medu':'m_edu', 'Fedu':'f_edu',\n",
    "       'Mjob':'m_job', 'Fjob':'f_job', 'studytime, granular': 'studytime_granular'}, inplace=True)\n",
    "data.head(5)"
   ]
  },
  {
   "cell_type": "code",
   "execution_count": 11,
   "metadata": {},
   "outputs": [],
   "source": [
    "# составим функции обработки столбцов\n",
    "def process_numerical(column):\n",
    "    '''Функция обработки числовых столбцов'''\n",
    "    \n",
    "    perc25 = data[column].quantile(0.25)\n",
    "    perc75 = data[column].quantile(0.75)\n",
    "    median = data[column].median()\n",
    "    IQR    = perc75 - perc25\n",
    "    range_min = data[column].min()\n",
    "    range_max = data[column].max()   \n",
    "    range_hist = (range_min, range_max)\n",
    "    nan_count = data[column].isna().sum()\n",
    "    emissions = data[column].loc[(data[column] < perc25 - 1.5*IQR) | (data[column] > perc75 + 1.5*IQR)]\n",
    "    \n",
    "    data[column].describe();\n",
    "    print('Количество пропусков в столбце: '.format(nan_count),\n",
    "        '25-й перцентиль: {},'.format(perc25),\n",
    "        '75-й перцентиль: {},'.format(perc75),\n",
    "        'IQR: {}, '.format(IQR))\n",
    "    print('Границы выбросов: [{f}, {l}].'.format(f=perc25 - 1.5*IQR, l=perc75 + 1.5*IQR)\n",
    "          , 'Количество выбросов: ', len(emissions))\n",
    "     \n",
    "    data[column].loc[data[column].between(perc25 - 1.5*IQR, perc75 + 1.5*IQR)] \\\n",
    "                    .hist(bins = 15, range = range_hist, label = 'IQR')\n",
    "    \n",
    "    emissions.hist(bins = 15, range = range_hist, color = 'red', label = 'Выбросы')\n",
    "     \n",
    "    plt.legend()"
   ]
  },
  {
   "cell_type": "code",
   "execution_count": 48,
   "metadata": {},
   "outputs": [],
   "source": [
    "def process_string(column, tableview):\n",
    "    '''Функция обработки строковых столбцов'''\n",
    "    \n",
    "    unique_str  = data[column].unique()\n",
    "    nan_str = data[column].isnull().sum()\n",
    "    \n",
    "    print('\\033[1m' + column + '\\033[0m')\n",
    "    print('Уникальные значения: {}'.format(unique_str))\n",
    "    print('Количество пустых значений: {}\\n'.format(nan_str))\n",
    "    \n",
    "    if tableview:\n",
    "        print(data[column].value_counts(normalize=True))\n",
    "        \n",
    "    print('\\n')"
   ]
  },
  {
   "cell_type": "markdown",
   "metadata": {},
   "source": [
    "**Столбцы делятся на два типа:**\n",
    "\n",
    "**float64**: из них -\n",
    "         \n",
    "         числовые      : 'age', 'absences', 'score'\n",
    "         \n",
    "         категориальные: 'm_edu', 'f_edu', 'traveltime', 'studytime', 'failures', 'studytime_granular', 'famrel', \n",
    "                         'freetime', 'goout', 'health', 'absences', 'score'    \n",
    "        \n",
    "**object** : из них -\n",
    "\n",
    "         бинарные      : 'schoolsup', 'famsup', 'paid', 'activities', 'nursery', 'higher', 'internet', 'romantic'\n",
    "        \n",
    "         категориальные: 'school', 'sex', 'address', 'famsize', 'p_status', 'm_job', 'f_job', 'reason', 'guardian'"
   ]
  },
  {
   "cell_type": "code",
   "execution_count": 13,
   "metadata": {},
   "outputs": [],
   "source": [
    "# Составим списки и проанализируем по группам\n",
    "object_categorial = ['school', 'sex', 'address', 'famsize', 'p_status', 'm_job', 'f_job', 'reason', 'guardian']\n",
    "object_binary     = ['schoolsup', 'famsup', 'paid', 'activities', 'nursery', 'higher', 'internet', 'romantic']\n",
    "\n",
    "float_numerical  = ['age', 'absences', 'score']\n",
    "float_categorial = ['m_edu', 'f_edu', 'traveltime', 'studytime', 'failures', 'studytime_granular', 'famrel', \n",
    "                    'freetime', 'goout', 'health']"
   ]
  },
  {
   "cell_type": "markdown",
   "metadata": {},
   "source": [
    "### Проанализируем колонки по группам"
   ]
  },
  {
   "cell_type": "code",
   "execution_count": 49,
   "metadata": {},
   "outputs": [
    {
     "name": "stdout",
     "output_type": "stream",
     "text": [
      "\u001b[1mschool\u001b[0m\n",
      "Уникальные значения: ['GP' 'MS']\n",
      "Количество пустых значений: 0\n",
      "\n",
      "GP    0.883544\n",
      "MS    0.116456\n",
      "Name: school, dtype: float64\n",
      "\n",
      "\n",
      "\u001b[1msex\u001b[0m\n",
      "Уникальные значения: ['F' 'M']\n",
      "Количество пустых значений: 0\n",
      "\n",
      "F    0.526582\n",
      "M    0.473418\n",
      "Name: sex, dtype: float64\n",
      "\n",
      "\n",
      "\u001b[1maddress\u001b[0m\n",
      "Уникальные значения: ['U' nan 'R']\n",
      "Количество пустых значений: 17\n",
      "\n",
      "U    0.780423\n",
      "R    0.219577\n",
      "Name: address, dtype: float64\n",
      "\n",
      "\n",
      "\u001b[1mfamsize\u001b[0m\n",
      "Уникальные значения: [nan 'GT3' 'LE3']\n",
      "Количество пустых значений: 27\n",
      "\n",
      "GT3    0.709239\n",
      "LE3    0.290761\n",
      "Name: famsize, dtype: float64\n",
      "\n",
      "\n",
      "\u001b[1mp_status\u001b[0m\n",
      "Уникальные значения: ['A' nan 'T']\n",
      "Количество пустых значений: 45\n",
      "\n",
      "T    0.897143\n",
      "A    0.102857\n",
      "Name: p_status, dtype: float64\n",
      "\n",
      "\n",
      "\u001b[1mm_job\u001b[0m\n",
      "Уникальные значения: ['at_home' 'health' 'other' 'services' 'teacher' nan]\n",
      "Количество пустых значений: 19\n",
      "\n",
      "other       0.353723\n",
      "services    0.260638\n",
      "at_home     0.154255\n",
      "teacher     0.146277\n",
      "health      0.085106\n",
      "Name: m_job, dtype: float64\n",
      "\n",
      "\n",
      "\u001b[1mf_job\u001b[0m\n",
      "Уникальные значения: ['teacher' 'other' nan 'health' 'services' 'at_home']\n",
      "Количество пустых значений: 36\n",
      "\n",
      "other       0.548747\n",
      "services    0.284123\n",
      "teacher     0.080780\n",
      "at_home     0.044568\n",
      "health      0.041783\n",
      "Name: f_job, dtype: float64\n",
      "\n",
      "\n",
      "\u001b[1mreason\u001b[0m\n",
      "Уникальные значения: ['course' 'other' 'home' 'reputation' nan]\n",
      "Количество пустых значений: 17\n",
      "\n",
      "course        0.362434\n",
      "home          0.275132\n",
      "reputation    0.272487\n",
      "other         0.089947\n",
      "Name: reason, dtype: float64\n",
      "\n",
      "\n",
      "\u001b[1mguardian\u001b[0m\n",
      "Уникальные значения: ['mother' 'father' 'other' nan]\n",
      "Количество пустых значений: 31\n",
      "\n",
      "mother    0.686813\n",
      "father    0.236264\n",
      "other     0.076923\n",
      "Name: guardian, dtype: float64\n",
      "\n",
      "\n"
     ]
    }
   ],
   "source": [
    "## Проанализируем колонки object_categorial \n",
    "for col in object_categorial:\n",
    "    process_string(col, True)"
   ]
  },
  {
   "cell_type": "markdown",
   "metadata": {},
   "source": [
    "**Вывод:** school и sex заполнены полностью. В остальных столбцах достаточно много пропусков. Для дальнейшего анализа пустые значения пока заполнять не будем."
   ]
  },
  {
   "cell_type": "code",
   "execution_count": 15,
   "metadata": {},
   "outputs": [
    {
     "name": "stdout",
     "output_type": "stream",
     "text": [
      "\u001b[1mschoolsup\u001b[0m\n",
      "Уникальные значения: ['yes' 'no' nan]\n",
      "Количество пустых значений: 9\n",
      "\n",
      "no     0.867876\n",
      "yes    0.132124\n",
      "Name: schoolsup, dtype: float64\n",
      "\n",
      "\n",
      "\u001b[1mfamsup\u001b[0m\n",
      "Уникальные значения: ['no' 'yes' nan]\n",
      "Количество пустых значений: 39\n",
      "\n",
      "yes    0.615169\n",
      "no     0.384831\n",
      "Name: famsup, dtype: float64\n",
      "\n",
      "\n",
      "\u001b[1mpaid\u001b[0m\n",
      "Уникальные значения: ['no' nan 'yes']\n",
      "Количество пустых значений: 40\n",
      "\n",
      "no     0.56338\n",
      "yes    0.43662\n",
      "Name: paid, dtype: float64\n",
      "\n",
      "\n",
      "\u001b[1mactivities\u001b[0m\n",
      "Уникальные значения: ['no' 'yes' nan]\n",
      "Количество пустых значений: 14\n",
      "\n",
      "yes    0.511811\n",
      "no     0.488189\n",
      "Name: activities, dtype: float64\n",
      "\n",
      "\n",
      "\u001b[1mnursery\u001b[0m\n",
      "Уникальные значения: ['yes' 'no' nan]\n",
      "Количество пустых значений: 16\n",
      "\n",
      "yes    0.791557\n",
      "no     0.208443\n",
      "Name: nursery, dtype: float64\n",
      "\n",
      "\n",
      "\u001b[1mhigher\u001b[0m\n",
      "Уникальные значения: ['yes' nan 'no']\n",
      "Количество пустых значений: 20\n",
      "\n",
      "yes    0.949333\n",
      "no     0.050667\n",
      "Name: higher, dtype: float64\n",
      "\n",
      "\n",
      "\u001b[1minternet\u001b[0m\n",
      "Уникальные значения: [nan 'yes' 'no']\n",
      "Количество пустых значений: 34\n",
      "\n",
      "yes    0.844875\n",
      "no     0.155125\n",
      "Name: internet, dtype: float64\n",
      "\n",
      "\n",
      "\u001b[1mromantic\u001b[0m\n",
      "Уникальные значения: ['no' nan 'yes']\n",
      "Количество пустых значений: 31\n",
      "\n",
      "no     0.659341\n",
      "yes    0.340659\n",
      "Name: romantic, dtype: float64\n",
      "\n",
      "\n"
     ]
    }
   ],
   "source": [
    "## Проанализируем колонки object_binary \n",
    "for col in object_binary:\n",
    "    process_string(col, True)"
   ]
  },
  {
   "cell_type": "markdown",
   "metadata": {},
   "source": [
    "**Вывод:** В столбцах немного пропусков. Столбцы internet, nursery, higher имеют больше положительных ответов. Приводить к бинарному виду пока не будем, т.к. по анализу далее будет видно."
   ]
  },
  {
   "cell_type": "code",
   "execution_count": 16,
   "metadata": {},
   "outputs": [
    {
     "name": "stdout",
     "output_type": "stream",
     "text": [
      "\u001b[1mm_edu\u001b[0m\n",
      "Уникальные значения: [ 4.  1.  3.  2. nan  0.]\n",
      "Количество пустых значений: 3\n",
      "\n",
      "\n",
      "\n",
      "\u001b[1mf_edu\u001b[0m\n",
      "Уникальные значения: [ 4.  1.  2.  3. 40. nan  0.]\n",
      "Количество пустых значений: 24\n",
      "\n",
      "\n",
      "\n",
      "\u001b[1mtraveltime\u001b[0m\n",
      "Уникальные значения: [ 2.  1.  3. nan  4.]\n",
      "Количество пустых значений: 28\n",
      "\n",
      "\n",
      "\n",
      "\u001b[1mstudytime\u001b[0m\n",
      "Уникальные значения: [ 2.  3.  1. nan  4.]\n",
      "Количество пустых значений: 7\n",
      "\n",
      "\n",
      "\n",
      "\u001b[1mfailures\u001b[0m\n",
      "Уникальные значения: [ 0.  3. nan  2.  1.]\n",
      "Количество пустых значений: 22\n",
      "\n",
      "\n",
      "\n",
      "\u001b[1mstudytime_granular\u001b[0m\n",
      "Уникальные значения: [ -6.  -9.  -3.  nan -12.]\n",
      "Количество пустых значений: 7\n",
      "\n",
      "\n",
      "\n",
      "\u001b[1mfamrel\u001b[0m\n",
      "Уникальные значения: [ 4.  5.  3. nan -1.  2.  1.]\n",
      "Количество пустых значений: 27\n",
      "\n",
      "\n",
      "\n",
      "\u001b[1mfreetime\u001b[0m\n",
      "Уникальные значения: [ 3.  2.  4.  1.  5. nan]\n",
      "Количество пустых значений: 11\n",
      "\n",
      "\n",
      "\n",
      "\u001b[1mgoout\u001b[0m\n",
      "Уникальные значения: [ 4.  3.  2.  1.  5. nan]\n",
      "Количество пустых значений: 8\n",
      "\n",
      "\n",
      "\n",
      "\u001b[1mhealth\u001b[0m\n",
      "Уникальные значения: [ 3.  5.  1.  2.  4. nan]\n",
      "Количество пустых значений: 15\n",
      "\n",
      "\n",
      "\n"
     ]
    }
   ],
   "source": [
    "## Проанализируем колонки float_categorial \n",
    "for col in float_categorial:\n",
    "    process_string(col, False)"
   ]
  },
  {
   "cell_type": "markdown",
   "metadata": {},
   "source": [
    "**Заметка :** По уникальным значениям заметно, что колонка studytime_granular совпадает с колонкой studytime(значения умножены на -3). Поэтому колонку studytime_granular можно удалить."
   ]
  },
  {
   "cell_type": "code",
   "execution_count": 17,
   "metadata": {},
   "outputs": [],
   "source": [
    "#Удаляем колонку\n",
    "data.drop(['studytime_granular'], inplace=True, axis=1)"
   ]
  },
  {
   "cell_type": "markdown",
   "metadata": {},
   "source": [
    "**Заметка :** Видно что колонки f_edu и famrel содержат выбросы. Проанализируем их детально."
   ]
  },
  {
   "cell_type": "markdown",
   "metadata": {},
   "source": [
    "### f_edu"
   ]
  },
  {
   "cell_type": "code",
   "execution_count": 18,
   "metadata": {},
   "outputs": [
    {
     "data": {
      "text/plain": [
       "2.0     0.285714\n",
       "3.0     0.258760\n",
       "4.0     0.237197\n",
       "1.0     0.210243\n",
       "0.0     0.005391\n",
       "40.0    0.002695\n",
       "Name: f_edu, dtype: float64"
      ]
     },
     "execution_count": 18,
     "metadata": {},
     "output_type": "execute_result"
    }
   ],
   "source": [
    "# Выведем значения столбца\n",
    "data['f_edu'].value_counts(normalize=True)"
   ]
  },
  {
   "cell_type": "code",
   "execution_count": 19,
   "metadata": {},
   "outputs": [
    {
     "data": {
      "text/plain": [
       "<matplotlib.axes._subplots.AxesSubplot at 0x22c19481208>"
      ]
     },
     "execution_count": 19,
     "metadata": {},
     "output_type": "execute_result"
    },
    {
     "data": {
      "image/png": "[encoded data removed]",
      "text/plain": [
       "<Figure size 432x288 with 1 Axes>"
      ]
     },
     "metadata": {
      "needs_background": "light"
     },
     "output_type": "display_data"
    }
   ],
   "source": [
    "# Столбец содержит выброс - значение 40\n",
    "sns.boxplot(data['f_edu'])"
   ]
  },
  {
   "cell_type": "code",
   "execution_count": 20,
   "metadata": {},
   "outputs": [],
   "source": [
    "#Возможно это ошибка и мы заменим значение на близкое, т.е. 4\n",
    "data.loc[data['f_edu'] == 40, 'f_edu'] = 4"
   ]
  },
  {
   "cell_type": "markdown",
   "metadata": {},
   "source": [
    "### famrel"
   ]
  },
  {
   "cell_type": "code",
   "execution_count": 21,
   "metadata": {},
   "outputs": [
    {
     "data": {
      "text/plain": [
       " 4.0    0.494565\n",
       " 5.0    0.269022\n",
       " 3.0    0.168478\n",
       " 2.0    0.046196\n",
       " 1.0    0.019022\n",
       "-1.0    0.002717\n",
       "Name: famrel, dtype: float64"
      ]
     },
     "execution_count": 21,
     "metadata": {},
     "output_type": "execute_result"
    }
   ],
   "source": [
    "# Выведем значения столбца\n",
    "data['famrel'].value_counts(normalize=True)"
   ]
  },
  {
   "cell_type": "code",
   "execution_count": 22,
   "metadata": {},
   "outputs": [],
   "source": [
    "#Столбец famrel содержит ошибку значение -1. Заменим значение на более подходящее 1\n",
    "data.loc[data['famrel'] == -1.0, 'famrel'] = 1.0"
   ]
  },
  {
   "cell_type": "markdown",
   "metadata": {},
   "source": [
    "**Вывод:** В данных были ошибки ввода в колонках f_edu и famrel. Эти даннные были исправлены для корректного анализа. Также была удалена колонка studytime_granular в  связи с ее обратной корреляцией с колонкой studytime."
   ]
  },
  {
   "cell_type": "markdown",
   "metadata": {},
   "source": [
    "Проанализируем колонки **'age', 'absences', 'score'** по отдельности:"
   ]
  },
  {
   "cell_type": "markdown",
   "metadata": {},
   "source": [
    "### age"
   ]
  },
  {
   "cell_type": "code",
   "execution_count": 23,
   "metadata": {},
   "outputs": [
    {
     "name": "stdout",
     "output_type": "stream",
     "text": [
      "Количество пропусков в столбце:  25-й перцентиль: 16.0, 75-й перцентиль: 18.0, IQR: 2.0, \n",
      "Границы выбросов: [13.0, 21.0]. Количество выбросов:  1\n"
     ]
    },
    {
     "data": {
      "image/png": "[encoded data removed]",
      "text/plain": [
       "<Figure size 432x288 with 1 Axes>"
      ]
     },
     "metadata": {
      "needs_background": "light"
     },
     "output_type": "display_data"
    }
   ],
   "source": [
    "process_numerical('age')"
   ]
  },
  {
   "cell_type": "code",
   "execution_count": 24,
   "metadata": {},
   "outputs": [
    {
     "data": {
      "text/plain": [
       "<matplotlib.axes._subplots.AxesSubplot at 0x22c1993fb48>"
      ]
     },
     "execution_count": 24,
     "metadata": {},
     "output_type": "execute_result"
    },
    {
     "data": {
      "image/png": "[encoded data removed]",
      "text/plain": [
       "<Figure size 432x288 with 1 Axes>"
      ]
     },
     "metadata": {
      "needs_background": "light"
     },
     "output_type": "display_data"
    }
   ],
   "source": [
    "# в данном столбце есть выбросы\n",
    "sns.boxplot(data['age'])"
   ]
  },
  {
   "cell_type": "code",
   "execution_count": 25,
   "metadata": {},
   "outputs": [],
   "source": [
    "# устраним выброс из стобца заменив значение на медианное\n",
    "data.loc[data['age'] == 22, 'age'] = data['age'].median()"
   ]
  },
  {
   "cell_type": "markdown",
   "metadata": {},
   "source": [
    "### absences"
   ]
  },
  {
   "cell_type": "code",
   "execution_count": 26,
   "metadata": {},
   "outputs": [
    {
     "name": "stdout",
     "output_type": "stream",
     "text": [
      "Количество пропусков в столбце:  25-й перцентиль: 0.0, 75-й перцентиль: 8.0, IQR: 8.0, \n",
      "Границы выбросов: [-12.0, 20.0]. Количество выбросов:  17\n"
     ]
    },
    {
     "data": {
      "image/png": "[encoded data removed]",
      "text/plain": [
       "<Figure size 432x288 with 1 Axes>"
      ]
     },
     "metadata": {
      "needs_background": "light"
     },
     "output_type": "display_data"
    }
   ],
   "source": [
    "process_numerical('absences')"
   ]
  },
  {
   "cell_type": "code",
   "execution_count": 27,
   "metadata": {},
   "outputs": [
    {
     "data": {
      "text/plain": [
       "<matplotlib.axes._subplots.AxesSubplot at 0x22c19a90b08>"
      ]
     },
     "execution_count": 27,
     "metadata": {},
     "output_type": "execute_result"
    },
    {
     "data": {
      "image/png": "[encoded data removed]",
      "text/plain": [
       "<Figure size 432x288 with 1 Axes>"
      ]
     },
     "metadata": {
      "needs_background": "light"
     },
     "output_type": "display_data"
    }
   ],
   "source": [
    "# в данном столбце есть выбросы\n",
    "sns.boxplot(data['absences'])"
   ]
  },
  {
   "cell_type": "markdown",
   "metadata": {},
   "source": [
    "Среди всех выбросов выделяются два аномально больших 385 и 212(возможно это ошибка). Уберем эти записи, чтобы избежать смещений при дальнейшем анализе."
   ]
  },
  {
   "cell_type": "code",
   "execution_count": 28,
   "metadata": {},
   "outputs": [],
   "source": [
    "# Удалим выбросы\n",
    "data.loc[(data['absences'] > 200.0), 'absences'] = np.nan"
   ]
  },
  {
   "cell_type": "markdown",
   "metadata": {},
   "source": [
    "### score"
   ]
  },
  {
   "cell_type": "code",
   "execution_count": 34,
   "metadata": {},
   "outputs": [
    {
     "name": "stdout",
     "output_type": "stream",
     "text": [
      "Количество пропусков в столбце:  25-й перцентиль: 40.0, 75-й перцентиль: 70.0, IQR: 30.0, \n",
      "Границы выбросов: [-5.0, 115.0]. Количество выбросов:  0\n"
     ]
    },
    {
     "data": {
      "image/png": "[encoded data removed]",
      "text/plain": [
       "<Figure size 432x288 with 1 Axes>"
      ]
     },
     "metadata": {
      "needs_background": "light"
     },
     "output_type": "display_data"
    }
   ],
   "source": [
    "process_numerical('score')"
   ]
  },
  {
   "cell_type": "markdown",
   "metadata": {},
   "source": [
    "### Вывод:\n",
    "Данные содержат небольшое количество пропусков. В целом были заполнены корректно за исключением: 'f_edu' - лишний ноль в 1 записи, 'famrel' - ошибочный знак минус, 'age' - выброс был заменен на медианное значение, 'absences' - два выброса были удалены, удалён столбец 'studytime_granular' он повторяет 'studytime' (значения умножены на -3).\n",
    "\n",
    "[В начало](#Начало)"
   ]
  },
  {
   "cell_type": "markdown",
   "metadata": {},
   "source": [
    "# 3.Корреляционный анализ"
   ]
  },
  {
   "cell_type": "markdown",
   "metadata": {},
   "source": [
    "Выявим какие столбцы коррелируют с главным показателем score. Это поможет выявить показатели для дальнейшего построения модели."
   ]
  },
  {
   "cell_type": "code",
   "execution_count": 35,
   "metadata": {},
   "outputs": [
    {
     "data": {
      "text/html": [
       "<div>\n",
       "<style scoped>\n",
       "    .dataframe tbody tr th:only-of-type {\n",
       "        vertical-align: middle;\n",
       "    }\n",
       "\n",
       "    .dataframe tbody tr th {\n",
       "        vertical-align: top;\n",
       "    }\n",
       "\n",
       "    .dataframe thead th {\n",
       "        text-align: right;\n",
       "    }\n",
       "</style>\n",
       "<table border=\"1\" class=\"dataframe\">\n",
       "  <thead>\n",
       "    <tr style=\"text-align: right;\">\n",
       "      <th></th>\n",
       "      <th>age</th>\n",
       "      <th>m_edu</th>\n",
       "      <th>f_edu</th>\n",
       "      <th>traveltime</th>\n",
       "      <th>studytime</th>\n",
       "      <th>failures</th>\n",
       "      <th>famrel</th>\n",
       "      <th>freetime</th>\n",
       "      <th>goout</th>\n",
       "      <th>health</th>\n",
       "      <th>absences</th>\n",
       "      <th>score</th>\n",
       "    </tr>\n",
       "  </thead>\n",
       "  <tbody>\n",
       "    <tr>\n",
       "      <td>age</td>\n",
       "      <td>1.000000</td>\n",
       "      <td>-0.167711</td>\n",
       "      <td>-0.152538</td>\n",
       "      <td>0.090388</td>\n",
       "      <td>-0.003154</td>\n",
       "      <td>0.194732</td>\n",
       "      <td>0.056274</td>\n",
       "      <td>0.021583</td>\n",
       "      <td>0.120664</td>\n",
       "      <td>-0.048418</td>\n",
       "      <td>0.157310</td>\n",
       "      <td>-0.153825</td>\n",
       "    </tr>\n",
       "    <tr>\n",
       "      <td>m_edu</td>\n",
       "      <td>-0.167711</td>\n",
       "      <td>1.000000</td>\n",
       "      <td>0.625516</td>\n",
       "      <td>-0.173515</td>\n",
       "      <td>0.078589</td>\n",
       "      <td>-0.245463</td>\n",
       "      <td>-0.014459</td>\n",
       "      <td>0.025335</td>\n",
       "      <td>0.064164</td>\n",
       "      <td>-0.045051</td>\n",
       "      <td>0.097295</td>\n",
       "      <td>0.213349</td>\n",
       "    </tr>\n",
       "    <tr>\n",
       "      <td>f_edu</td>\n",
       "      <td>-0.152538</td>\n",
       "      <td>0.625516</td>\n",
       "      <td>1.000000</td>\n",
       "      <td>-0.145349</td>\n",
       "      <td>0.012896</td>\n",
       "      <td>-0.272882</td>\n",
       "      <td>-0.026122</td>\n",
       "      <td>-0.025892</td>\n",
       "      <td>0.042663</td>\n",
       "      <td>0.023862</td>\n",
       "      <td>0.040514</td>\n",
       "      <td>0.130923</td>\n",
       "    </tr>\n",
       "    <tr>\n",
       "      <td>traveltime</td>\n",
       "      <td>0.090388</td>\n",
       "      <td>-0.173515</td>\n",
       "      <td>-0.145349</td>\n",
       "      <td>1.000000</td>\n",
       "      <td>-0.102206</td>\n",
       "      <td>0.064699</td>\n",
       "      <td>-0.021542</td>\n",
       "      <td>-0.021937</td>\n",
       "      <td>0.037636</td>\n",
       "      <td>-0.021531</td>\n",
       "      <td>-0.014040</td>\n",
       "      <td>-0.070559</td>\n",
       "    </tr>\n",
       "    <tr>\n",
       "      <td>studytime</td>\n",
       "      <td>-0.003154</td>\n",
       "      <td>0.078589</td>\n",
       "      <td>0.012896</td>\n",
       "      <td>-0.102206</td>\n",
       "      <td>1.000000</td>\n",
       "      <td>-0.178992</td>\n",
       "      <td>0.039555</td>\n",
       "      <td>-0.121969</td>\n",
       "      <td>-0.051280</td>\n",
       "      <td>-0.080016</td>\n",
       "      <td>-0.067734</td>\n",
       "      <td>0.115741</td>\n",
       "    </tr>\n",
       "    <tr>\n",
       "      <td>failures</td>\n",
       "      <td>0.194732</td>\n",
       "      <td>-0.245463</td>\n",
       "      <td>-0.272882</td>\n",
       "      <td>0.064699</td>\n",
       "      <td>-0.178992</td>\n",
       "      <td>1.000000</td>\n",
       "      <td>-0.009110</td>\n",
       "      <td>0.098382</td>\n",
       "      <td>0.120914</td>\n",
       "      <td>0.081284</td>\n",
       "      <td>0.069703</td>\n",
       "      <td>-0.344338</td>\n",
       "    </tr>\n",
       "    <tr>\n",
       "      <td>famrel</td>\n",
       "      <td>0.056274</td>\n",
       "      <td>-0.014459</td>\n",
       "      <td>-0.026122</td>\n",
       "      <td>-0.021542</td>\n",
       "      <td>0.039555</td>\n",
       "      <td>-0.009110</td>\n",
       "      <td>1.000000</td>\n",
       "      <td>0.172751</td>\n",
       "      <td>0.077167</td>\n",
       "      <td>0.086309</td>\n",
       "      <td>-0.051402</td>\n",
       "      <td>0.055305</td>\n",
       "    </tr>\n",
       "    <tr>\n",
       "      <td>freetime</td>\n",
       "      <td>0.021583</td>\n",
       "      <td>0.025335</td>\n",
       "      <td>-0.025892</td>\n",
       "      <td>-0.021937</td>\n",
       "      <td>-0.121969</td>\n",
       "      <td>0.098382</td>\n",
       "      <td>0.172751</td>\n",
       "      <td>1.000000</td>\n",
       "      <td>0.296437</td>\n",
       "      <td>0.061575</td>\n",
       "      <td>-0.070416</td>\n",
       "      <td>0.019026</td>\n",
       "    </tr>\n",
       "    <tr>\n",
       "      <td>goout</td>\n",
       "      <td>0.120664</td>\n",
       "      <td>0.064164</td>\n",
       "      <td>0.042663</td>\n",
       "      <td>0.037636</td>\n",
       "      <td>-0.051280</td>\n",
       "      <td>0.120914</td>\n",
       "      <td>0.077167</td>\n",
       "      <td>0.296437</td>\n",
       "      <td>1.000000</td>\n",
       "      <td>-0.015608</td>\n",
       "      <td>0.036836</td>\n",
       "      <td>-0.129685</td>\n",
       "    </tr>\n",
       "    <tr>\n",
       "      <td>health</td>\n",
       "      <td>-0.048418</td>\n",
       "      <td>-0.045051</td>\n",
       "      <td>0.023862</td>\n",
       "      <td>-0.021531</td>\n",
       "      <td>-0.080016</td>\n",
       "      <td>0.081284</td>\n",
       "      <td>0.086309</td>\n",
       "      <td>0.061575</td>\n",
       "      <td>-0.015608</td>\n",
       "      <td>1.000000</td>\n",
       "      <td>-0.021752</td>\n",
       "      <td>-0.070460</td>\n",
       "    </tr>\n",
       "    <tr>\n",
       "      <td>absences</td>\n",
       "      <td>0.157310</td>\n",
       "      <td>0.097295</td>\n",
       "      <td>0.040514</td>\n",
       "      <td>-0.014040</td>\n",
       "      <td>-0.067734</td>\n",
       "      <td>0.069703</td>\n",
       "      <td>-0.051402</td>\n",
       "      <td>-0.070416</td>\n",
       "      <td>0.036836</td>\n",
       "      <td>-0.021752</td>\n",
       "      <td>1.000000</td>\n",
       "      <td>0.031698</td>\n",
       "    </tr>\n",
       "    <tr>\n",
       "      <td>score</td>\n",
       "      <td>-0.153825</td>\n",
       "      <td>0.213349</td>\n",
       "      <td>0.130923</td>\n",
       "      <td>-0.070559</td>\n",
       "      <td>0.115741</td>\n",
       "      <td>-0.344338</td>\n",
       "      <td>0.055305</td>\n",
       "      <td>0.019026</td>\n",
       "      <td>-0.129685</td>\n",
       "      <td>-0.070460</td>\n",
       "      <td>0.031698</td>\n",
       "      <td>1.000000</td>\n",
       "    </tr>\n",
       "  </tbody>\n",
       "</table>\n",
       "</div>"
      ],
      "text/plain": [
       "                 age     m_edu     f_edu  traveltime  studytime  failures  \\\n",
       "age         1.000000 -0.167711 -0.152538    0.090388  -0.003154  0.194732   \n",
       "m_edu      -0.167711  1.000000  0.625516   -0.173515   0.078589 -0.245463   \n",
       "f_edu      -0.152538  0.625516  1.000000   -0.145349   0.012896 -0.272882   \n",
       "traveltime  0.090388 -0.173515 -0.145349    1.000000  -0.102206  0.064699   \n",
       "studytime  -0.003154  0.078589  0.012896   -0.102206   1.000000 -0.178992   \n",
       "failures    0.194732 -0.245463 -0.272882    0.064699  -0.178992  1.000000   \n",
       "famrel      0.056274 -0.014459 -0.026122   -0.021542   0.039555 -0.009110   \n",
       "freetime    0.021583  0.025335 -0.025892   -0.021937  -0.121969  0.098382   \n",
       "goout       0.120664  0.064164  0.042663    0.037636  -0.051280  0.120914   \n",
       "health     -0.048418 -0.045051  0.023862   -0.021531  -0.080016  0.081284   \n",
       "absences    0.157310  0.097295  0.040514   -0.014040  -0.067734  0.069703   \n",
       "score      -0.153825  0.213349  0.130923   -0.070559   0.115741 -0.344338   \n",
       "\n",
       "              famrel  freetime     goout    health  absences     score  \n",
       "age         0.056274  0.021583  0.120664 -0.048418  0.157310 -0.153825  \n",
       "m_edu      -0.014459  0.025335  0.064164 -0.045051  0.097295  0.213349  \n",
       "f_edu      -0.026122 -0.025892  0.042663  0.023862  0.040514  0.130923  \n",
       "traveltime -0.021542 -0.021937  0.037636 -0.021531 -0.014040 -0.070559  \n",
       "studytime   0.039555 -0.121969 -0.051280 -0.080016 -0.067734  0.115741  \n",
       "failures   -0.009110  0.098382  0.120914  0.081284  0.069703 -0.344338  \n",
       "famrel      1.000000  0.172751  0.077167  0.086309 -0.051402  0.055305  \n",
       "freetime    0.172751  1.000000  0.296437  0.061575 -0.070416  0.019026  \n",
       "goout       0.077167  0.296437  1.000000 -0.015608  0.036836 -0.129685  \n",
       "health      0.086309  0.061575 -0.015608  1.000000 -0.021752 -0.070460  \n",
       "absences   -0.051402 -0.070416  0.036836 -0.021752  1.000000  0.031698  \n",
       "score       0.055305  0.019026 -0.129685 -0.070460  0.031698  1.000000  "
      ]
     },
     "execution_count": 35,
     "metadata": {},
     "output_type": "execute_result"
    }
   ],
   "source": [
    "corr_t = data.corr()\n",
    "corr_t"
   ]
  },
  {
   "cell_type": "code",
   "execution_count": 36,
   "metadata": {},
   "outputs": [
    {
     "data": {
      "text/plain": [
       "<matplotlib.axes._subplots.AxesSubplot at 0x22c19d2dd88>"
      ]
     },
     "execution_count": 36,
     "metadata": {},
     "output_type": "execute_result"
    },
    {
     "data": {
      "image/png": "[encoded data removed]",
      "text/plain": [
       "<Figure size 1152x720 with 2 Axes>"
      ]
     },
     "metadata": {
      "needs_background": "light"
     },
     "output_type": "display_data"
    }
   ],
   "source": [
    "plt.figure(figsize=(16,10))\n",
    "sns.heatmap(corr_t, cmap=\"PuOr\", annot=True)"
   ]
  },
  {
   "cell_type": "markdown",
   "metadata": {},
   "source": [
    "Из корреляционного анализа видно:\n",
    "    \n",
    "+ Столбцы f_edu и m_edu умеренно скоррелированы. Поэтому удалим f_edu, так как он слабее коррелирует со score.\n",
    "+ Столбец freetime почти не коррелирует со score. Поэтому его также можно удалить."
   ]
  },
  {
   "cell_type": "code",
   "execution_count": 37,
   "metadata": {},
   "outputs": [],
   "source": [
    "#Удаляем столбцы f_edu и freetime\n",
    "data.drop(columns='f_edu', inplace=True)\n",
    "data.drop(columns='freetime', inplace=True)"
   ]
  },
  {
   "cell_type": "markdown",
   "metadata": {},
   "source": [
    "### Вывод:\n",
    "Из корреляционного анализа числовых переменных стало понятно, что значения age и absences влияют на целевую переменную score. \n",
    "Также стало понятно что столбцы absences и score слабоскоррелированы. Количество пропусков почти не влияет на результат. А столбцы goout и freetimе являются хорошо скореллироваными.\n",
    "\n",
    "[В начало](#Начало)"
   ]
  },
  {
   "cell_type": "markdown",
   "metadata": {},
   "source": [
    "# 4.Анализ номинативных переменных"
   ]
  },
  {
   "cell_type": "markdown",
   "metadata": {},
   "source": [
    "Отберем номинативные переменные их и проведем анализ влияния на целевые показатели."
   ]
  },
  {
   "cell_type": "code",
   "execution_count": 38,
   "metadata": {},
   "outputs": [
    {
     "data": {
      "image/png": "[encoded data removed]",
      "text/plain": [
       "<Figure size 1008x288 with 1 Axes>"
      ]
     },
     "metadata": {
      "needs_background": "light"
     },
     "output_type": "display_data"
    },
    {
     "data": {
      "image/png": "[encoded data removed]",
      "text/plain": [
       "<Figure size 1008x288 with 1 Axes>"
      ]
     },
     "metadata": {
      "needs_background": "light"
     },
     "output_type": "display_data"
    },
    {
     "data": {
      "image/png": "[encoded data removed]",
      "text/plain": [
       "<Figure size 1008x288 with 1 Axes>"
      ]
     },
     "metadata": {
      "needs_background": "light"
     },
     "output_type": "display_data"
    },
    {
     "data": {
      "image/png": "[encoded data removed]",
      "text/plain": [
       "<Figure size 1008x288 with 1 Axes>"
      ]
     },
     "metadata": {
      "needs_background": "light"
     },
     "output_type": "display_data"
    },
    {
     "data": {
      "image/png": "[encoded data removed]",
      "text/plain": [
       "<Figure size 1008x288 with 1 Axes>"
      ]
     },
     "metadata": {
      "needs_background": "light"
     },
     "output_type": "display_data"
    },
    {
     "data": {
      "image/png": "[encoded data removed]",
      "text/plain": [
       "<Figure size 1008x288 with 1 Axes>"
      ]
     },
     "metadata": {
      "needs_background": "light"
     },
     "output_type": "display_data"
    },
    {
     "data": {
      "image/png": "[encoded data removed]",
      "text/plain": [
       "<Figure size 1008x288 with 1 Axes>"
      ]
     },
     "metadata": {
      "needs_background": "light"
     },
     "output_type": "display_data"
    },
    {
     "data": {
      "image/png": "[encoded data removed]",
      "text/plain": [
       "<Figure size 1008x288 with 1 Axes>"
      ]
     },
     "metadata": {
      "needs_background": "light"
     },
     "output_type": "display_data"
    },
    {
     "data": {
      "image/png": "[encoded data removed]",
      "text/plain": [
       "<Figure size 1008x288 with 1 Axes>"
      ]
     },
     "metadata": {
      "needs_background": "light"
     },
     "output_type": "display_data"
    },
    {
     "data": {
      "image/png": "[encoded data removed]",
      "text/plain": [
       "<Figure size 1008x288 with 1 Axes>"
      ]
     },
     "metadata": {
      "needs_background": "light"
     },
     "output_type": "display_data"
    },
    {
     "data": {
      "image/png": "[encoded data removed]",
      "text/plain": [
       "<Figure size 1008x288 with 1 Axes>"
      ]
     },
     "metadata": {
      "needs_background": "light"
     },
     "output_type": "display_data"
    },
    {
     "data": {
      "image/png": "[encoded data removed]",
      "text/plain": [
       "<Figure size 1008x288 with 1 Axes>"
      ]
     },
     "metadata": {
      "needs_background": "light"
     },
     "output_type": "display_data"
    },
    {
     "data": {
      "image/png": "[encoded data removed]",
      "text/plain": [
       "<Figure size 1008x288 with 1 Axes>"
      ]
     },
     "metadata": {
      "needs_background": "light"
     },
     "output_type": "display_data"
    },
    {
     "data": {
      "image/png": "[encoded data removed]",
      "text/plain": [
       "<Figure size 1008x288 with 1 Axes>"
      ]
     },
     "metadata": {
      "needs_background": "light"
     },
     "output_type": "display_data"
    },
    {
     "data": {
      "image/png": "[encoded data removed]",
      "text/plain": [
       "<Figure size 1008x288 with 1 Axes>"
      ]
     },
     "metadata": {
      "needs_background": "light"
     },
     "output_type": "display_data"
    },
    {
     "data": {
      "image/png": "[encoded data removed]",
      "text/plain": [
       "<Figure size 1008x288 with 1 Axes>"
      ]
     },
     "metadata": {
      "needs_background": "light"
     },
     "output_type": "display_data"
    },
    {
     "data": {
      "image/png": "[encoded data removed]",
      "text/plain": [
       "<Figure size 1008x288 with 1 Axes>"
      ]
     },
     "metadata": {
      "needs_background": "light"
     },
     "output_type": "display_data"
    },
    {
     "data": {
      "image/png": "[encoded data removed]",
      "text/plain": [
       "<Figure size 1008x288 with 1 Axes>"
      ]
     },
     "metadata": {
      "needs_background": "light"
     },
     "output_type": "display_data"
    },
    {
     "data": {
      "image/png": "[encoded data removed]",
      "text/plain": [
       "<Figure size 1008x288 with 1 Axes>"
      ]
     },
     "metadata": {
      "needs_background": "light"
     },
     "output_type": "display_data"
    },
    {
     "data": {
      "image/png": "[encoded data removed]",
      "text/plain": [
       "<Figure size 1008x288 with 1 Axes>"
      ]
     },
     "metadata": {
      "needs_background": "light"
     },
     "output_type": "display_data"
    },
    {
     "data": {
      "image/png": "[encoded data removed]",
      "text/plain": [
       "<Figure size 1008x288 with 1 Axes>"
      ]
     },
     "metadata": {
      "needs_background": "light"
     },
     "output_type": "display_data"
    },
    {
     "data": {
      "image/png": "[encoded data removed]",
      "text/plain": [
       "<Figure size 1008x288 with 1 Axes>"
      ]
     },
     "metadata": {
      "needs_background": "light"
     },
     "output_type": "display_data"
    },
    {
     "data": {
      "image/png": "[encoded data removed]",
      "text/plain": [
       "<Figure size 1008x288 with 1 Axes>"
      ]
     },
     "metadata": {
      "needs_background": "light"
     },
     "output_type": "display_data"
    },
    {
     "data": {
      "image/png": "[encoded data removed]",
      "text/plain": [
       "<Figure size 1008x288 with 1 Axes>"
      ]
     },
     "metadata": {
      "needs_background": "light"
     },
     "output_type": "display_data"
    }
   ],
   "source": [
    "def get_boxplot(column):\n",
    "    fig, ax = plt.subplots(figsize = (14, 4))\n",
    "    sns.boxplot(x=column, y='score', \n",
    "                data=data,\n",
    "               ax=ax)\n",
    "    plt.xticks(rotation=45)\n",
    "    ax.set_title('Boxplot for ' + column)\n",
    "    plt.show()\n",
    "\n",
    "nominative_col = ['school', 'sex', 'address', 'famsize', 'p_status', 'm_edu', 'm_job', 'f_job', 'reason', 'guardian', \n",
    "                  'traveltime', 'studytime', 'failures', 'schoolsup', 'famsup', 'paid', 'activities', 'nursery', 'higher',\n",
    "                  'internet', 'romantic', 'famrel', 'goout', 'health']\n",
    "\n",
    "for col in nominative_col:\n",
    "    get_boxplot(col)"
   ]
  },
  {
   "cell_type": "markdown",
   "metadata": {},
   "source": [
    "Из графиков видно, что параметры 'famsize', 'activities', 'nursery' не влияют на 'score'."
   ]
  },
  {
   "cell_type": "code",
   "execution_count": 39,
   "metadata": {},
   "outputs": [
    {
     "name": "stdout",
     "output_type": "stream",
     "text": [
      "Найдены статистически значимые различия для колонки address\n",
      "Найдены статистически значимые различия для колонки m_edu\n",
      "Найдены статистически значимые различия для колонки m_job\n",
      "Найдены статистически значимые различия для колонки failures\n",
      "Найдены статистически значимые различия для колонки higher\n",
      "Найдены статистически значимые различия для колонки romantic\n",
      "Найдены статистически значимые различия для колонки goout\n"
     ]
    }
   ],
   "source": [
    "# Найдем статистически значимые различия для 'score' \n",
    "def get_stat_dif(column):\n",
    "    cols = data.loc[:, column].value_counts().index\n",
    "    combinations_all = list(combinations(cols, 2))\n",
    "    for comb in combinations_all:\n",
    "        if ttest_ind(data.loc[data.loc[:, column] == comb[0], 'score'],\n",
    "                        data.loc[data.loc[:, column] == comb[1], 'score'], nan_policy='omit').pvalue \\\n",
    "            <= 0.05/len(combinations_all): # Учли поправку Бонферони\n",
    "            print('Найдены статистически значимые различия для колонки', column)\n",
    "            break\n",
    "\n",
    "for col in nominative_col:\n",
    "    get_stat_dif(col)"
   ]
  },
  {
   "cell_type": "markdown",
   "metadata": {},
   "source": [
    "Анализ показал, что на результаты экзамена могут влиять параметры:\n",
    "+ age, absences, address, m_edu, m_job, failures, higher, romantic, goout."
   ]
  },
  {
   "cell_type": "markdown",
   "metadata": {},
   "source": [
    "### Вывод:\n",
    "Важные номинативные переменные которые оказывают влияние на оценку 'score' - 'address', 'm_edu', 'm_job', 'failures', 'higher', 'romantic', 'goout'. На их основании получим итоговый датасет для дальнейшего моделирования:\n",
    "\n",
    "[В начало](#Начало)"
   ]
  },
  {
   "cell_type": "code",
   "execution_count": 40,
   "metadata": {},
   "outputs": [
    {
     "data": {
      "text/html": [
       "<div>\n",
       "<style scoped>\n",
       "    .dataframe tbody tr th:only-of-type {\n",
       "        vertical-align: middle;\n",
       "    }\n",
       "\n",
       "    .dataframe tbody tr th {\n",
       "        vertical-align: top;\n",
       "    }\n",
       "\n",
       "    .dataframe thead th {\n",
       "        text-align: right;\n",
       "    }\n",
       "</style>\n",
       "<table border=\"1\" class=\"dataframe\">\n",
       "  <thead>\n",
       "    <tr style=\"text-align: right;\">\n",
       "      <th></th>\n",
       "      <th>age</th>\n",
       "      <th>absences</th>\n",
       "      <th>address</th>\n",
       "      <th>m_edu</th>\n",
       "      <th>m_job</th>\n",
       "      <th>failures</th>\n",
       "      <th>higher</th>\n",
       "      <th>romantic</th>\n",
       "      <th>goout</th>\n",
       "      <th>score</th>\n",
       "    </tr>\n",
       "  </thead>\n",
       "  <tbody>\n",
       "    <tr>\n",
       "      <td>0</td>\n",
       "      <td>18.0</td>\n",
       "      <td>6.0</td>\n",
       "      <td>U</td>\n",
       "      <td>4.0</td>\n",
       "      <td>at_home</td>\n",
       "      <td>0.0</td>\n",
       "      <td>yes</td>\n",
       "      <td>no</td>\n",
       "      <td>4.0</td>\n",
       "      <td>30.0</td>\n",
       "    </tr>\n",
       "    <tr>\n",
       "      <td>1</td>\n",
       "      <td>17.0</td>\n",
       "      <td>4.0</td>\n",
       "      <td>U</td>\n",
       "      <td>1.0</td>\n",
       "      <td>at_home</td>\n",
       "      <td>0.0</td>\n",
       "      <td>yes</td>\n",
       "      <td>no</td>\n",
       "      <td>3.0</td>\n",
       "      <td>30.0</td>\n",
       "    </tr>\n",
       "    <tr>\n",
       "      <td>2</td>\n",
       "      <td>15.0</td>\n",
       "      <td>10.0</td>\n",
       "      <td>U</td>\n",
       "      <td>1.0</td>\n",
       "      <td>at_home</td>\n",
       "      <td>3.0</td>\n",
       "      <td>yes</td>\n",
       "      <td>NaN</td>\n",
       "      <td>2.0</td>\n",
       "      <td>50.0</td>\n",
       "    </tr>\n",
       "    <tr>\n",
       "      <td>3</td>\n",
       "      <td>15.0</td>\n",
       "      <td>2.0</td>\n",
       "      <td>U</td>\n",
       "      <td>4.0</td>\n",
       "      <td>health</td>\n",
       "      <td>0.0</td>\n",
       "      <td>yes</td>\n",
       "      <td>yes</td>\n",
       "      <td>2.0</td>\n",
       "      <td>75.0</td>\n",
       "    </tr>\n",
       "    <tr>\n",
       "      <td>4</td>\n",
       "      <td>16.0</td>\n",
       "      <td>4.0</td>\n",
       "      <td>U</td>\n",
       "      <td>3.0</td>\n",
       "      <td>other</td>\n",
       "      <td>0.0</td>\n",
       "      <td>yes</td>\n",
       "      <td>no</td>\n",
       "      <td>2.0</td>\n",
       "      <td>50.0</td>\n",
       "    </tr>\n",
       "  </tbody>\n",
       "</table>\n",
       "</div>"
      ],
      "text/plain": [
       "    age  absences address  m_edu    m_job  failures higher romantic  goout  \\\n",
       "0  18.0       6.0       U    4.0  at_home       0.0    yes       no    4.0   \n",
       "1  17.0       4.0       U    1.0  at_home       0.0    yes       no    3.0   \n",
       "2  15.0      10.0       U    1.0  at_home       3.0    yes      NaN    2.0   \n",
       "3  15.0       2.0       U    4.0   health       0.0    yes      yes    2.0   \n",
       "4  16.0       4.0       U    3.0    other       0.0    yes       no    2.0   \n",
       "\n",
       "   score  \n",
       "0   30.0  \n",
       "1   30.0  \n",
       "2   50.0  \n",
       "3   75.0  \n",
       "4   50.0  "
      ]
     },
     "execution_count": 40,
     "metadata": {},
     "output_type": "execute_result"
    }
   ],
   "source": [
    "data_model = data[['age', 'absences', 'address', 'm_edu', 'm_job', 'failures', 'higher', 'romantic', 'goout', 'score']]\n",
    "data_model.head(5)"
   ]
  },
  {
   "cell_type": "markdown",
   "metadata": {},
   "source": [
    "# Итоги работы"
   ]
  },
  {
   "cell_type": "markdown",
   "metadata": {},
   "source": [
    "На основании разведывательного анализа можно сделать выводы:\n",
    "+ В первоначальном наборе данных содержалось 395 строк, 30 столбцов. Три из них запонены полностью.  \n",
    "+ Сделан вывод о том, что данные являются чистыми, но содержат небольшое количество пропусков. Максимальная доля пропусков в столбце 'p_status'(11%).\n",
    "+ После подробного анализа столбцов и корреляционного анализа были удалены столбцы - 'studytime_granular', 'f_edu', 'freetime'.\n",
    "+ Были исправлены неверные значения в столбцах - 'f_edu' и 'famrel'.\n",
    "+ Выявлены выбросы в колонках - 'age', 'absences'. Максимальное количество выбросов в 'absences'(17).\n",
    "+ Корреляции среди числовых признаков минимальны. Анализ позволил отобрать слабоскоррелированные переменные.\n",
    "+ Анализ номинативных переменных основанный на тесте Стьюдента позволил отобрать статистически значимые переменные для дальнейшего посстроения модели данных.\n"
   ]
  }
 ],
 "metadata": {
  "celltoolbar": "Raw Cell Format",
  "kernelspec": {
   "display_name": "Python 3",
   "language": "python",
   "name": "python3"
  },
  "language_info": {
   "codemirror_mode": {
    "name": "ipython",
    "version": 3
   },
   "file_extension": ".py",
   "mimetype": "text/x-python",
   "name": "python",
   "nbconvert_exporter": "python",
   "pygments_lexer": "ipython3",
   "version": "3.7.4"
  }
 },
 "nbformat": 4,
 "nbformat_minor": 2
}
